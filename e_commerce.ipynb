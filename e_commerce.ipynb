{
 "cells": [
  {
   "cell_type": "markdown",
   "metadata": {},
   "source": [
    "<h1> Проект e-commerce <h1>"
   ]
  },
  {
   "cell_type": "markdown",
   "metadata": {},
   "source": [
    "<h3> ИМПОРТ БИБЛИОТЕК <h3>"
   ]
  },
  {
   "cell_type": "code",
   "execution_count": 20,
   "metadata": {},
   "outputs": [],
   "source": [
    "import pandas as pd\n",
    "import matplotlib.pyplot as plt\n",
    "%matplotlib inline \n",
    "import seaborn as sns\n",
    "import re\n",
    "from io import BytesIO\n",
    "import requests\n",
    "import numpy as np\n",
    "import os\n",
    "from scipy import stats\n",
    "from statsmodels.formula.api import ols\n",
    "from statsmodels.stats.anova import anova_lm\n",
    "import statsmodels.api as sm\n",
    "import statsmodels.formula.api as smf\n",
    "import datetime"
   ]
  },
  {
   "cell_type": "markdown",
   "metadata": {},
   "source": [
    "<h3> ЗАГРУЗКА ДАННЫХ <h3>"
   ]
  },
  {
   "cell_type": "code",
   "execution_count": 12,
   "metadata": {},
   "outputs": [],
   "source": [
    "# Для упрощения работы проверяющим файлы были загружены на гугл диск, чтобы была возможно считать их без скачивания))\n",
    "\n",
    "url_1 = 'https://drive.google.com/file/d/1WnNluKlP4JSYOCrKbYtajkiXcwQL6Amf/view?usp=sharing'\n",
    "path_1 = 'https://drive.google.com/uc?export=download&id=' + url_1.split('/')[-2]\n",
    "olist_customers_dataset = pd.read_csv(path_1)\n",
    "\n",
    "url_2 = 'https://drive.google.com/file/d/1eC8f2xpXhw1kkqP_SbAF9DYoY5LHPQcE/view?usp=sharing'\n",
    "path_2 = 'https://drive.google.com/uc?export=download&id=' + url_2.split('/')[-2]\n",
    "olist_orders_dataset = pd.read_csv(path_2)\n",
    "\n",
    "url_3 = 'https://drive.google.com/file/d/1XN2P6EmBZJeGIEuSSCRhA1Ke3RP__vjl/view?usp=sharing'\n",
    "path_3 = 'https://drive.google.com/uc?export=download&id=' + url_3.split('/')[-2]\n",
    "olist_order_items_dataset = pd.read_csv(path_3)"
   ]
  },
  {
   "cell_type": "markdown",
   "metadata": {},
   "source": [
    "## <blockquote> Покупкой считается оплаченный заказ, то есть имеющий статус processing, shipped или delivered, т.к. в таких случаях оплата совершена, и в первом случае готовиться к отправке, во втором - отправился, а в третьем - заказ уже доставлен.  В заказе может содержаться несколько позиций одновременно, если человек оплатил их в один и тот же момент. <br><br> Во всех иных случаях (статусы created, approved, invoiced, unavailable, canceled) заказ либо ещё не оплачен (из имеющихся данных  считаем, что оплата происходит до сборки заказа), либо по нему нет информации (статус unavailable), либо отмненен, что аннулирует факт покупки, ведь деньги должны были вернуться к пользователю."
   ]
  },
  {
   "cell_type": "markdown",
   "metadata": {},
   "source": [
    "<h2> ЗАДАНИЕ №1 <h2>"
   ]
  },
  {
   "cell_type": "markdown",
   "metadata": {},
   "source": [
    "<h4>Сколько у нас пользователей, которые совершили покупку только один раз?<h4>"
   ]
  },
  {
   "cell_type": "code",
   "execution_count": 13,
   "metadata": {},
   "outputs": [
    {
     "data": {
      "text/plain": [
       "91814"
      ]
     },
     "execution_count": 13,
     "metadata": {},
     "output_type": "execute_result"
    }
   ],
   "source": [
    "# Кол-во заказов, которые совершил пользователь, считалось по тому, сколько заказов можно считать покупкой (подходят под \n",
    "# заданное нами условие).\n",
    "\n",
    "task_1_1 = olist_customers_dataset[['customer_id', 'customer_unique_id']]\n",
    "# Переменная task_1_1 - изменённый датасет olist_customers_dataset, где остались только необходимые для выполнения задания \n",
    "# столбцы.\n",
    "modified_dataframe_1 = olist_orders_dataset.merge(task_1_1, how='inner', on='customer_id')\n",
    "# Переменная modified_dataset_1 - изменённый датасет olist_customers_dataset olist_orders_dataset. В результате изменений была \n",
    "# добавлена колонка customer_unique_id для вычисления числа пользователей, которые так или иначе совершили заказ.\n",
    "\n",
    "modified_dataframe_1.order_purchase_timestamp = pd.to_datetime(modified_dataframe_1.order_purchase_timestamp,\\\n",
    "                                                               format='%Y-%m-%d %H:%M:%S')\n",
    "modified_dataframe_1.order_approved_at = pd.to_datetime(modified_dataframe_1.order_approved_at, format='%Y-%m-%d %H:%M:%S')\n",
    "modified_dataframe_1.order_delivered_carrier_date = pd.to_datetime(modified_dataframe_1.order_delivered_carrier_date,\\\n",
    "                                                               format='%Y-%m-%d %H:%M:%S')\n",
    "modified_dataframe_1.order_delivered_customer_date = pd.to_datetime(modified_dataframe_1.order_delivered_customer_date,\\\n",
    "                                                               format='%Y-%m-%d %H:%M:%S')\n",
    "modified_dataframe_1.order_estimated_delivery_date = pd.to_datetime(modified_dataframe_1.order_estimated_delivery_date,\\\n",
    "                                                               format='%Y-%m-%d %H:%M:%S')\n",
    "# Для дальнейшего удобства привели все даты к нужному формату.\n",
    "\n",
    "purchased = ['processing', 'shipped', 'delivered']\n",
    "# Переменная purchased - список статусов заказа, которые имеют купленные товары.\n",
    "\n",
    "task_1 = (modified_dataframe_1.query(\"order_status in @purchased\").groupby('customer_unique_id', as_index=False).\\\n",
    "      agg({'order_status': 'count'}).order_status == 1).value_counts()[1]\n",
    "# Переменная task_1 - необходимое нам число пользователей, которые совершили ровно 1 покупку.\n",
    "# Сгруппировали переменные по колонке с уникальными идентификаторами пользователями, посчитали сколько заказов совершил каждый\n",
    "# пользователь и вывели число тех, которые совершили только 1 покупку.\n",
    "\n",
    "task_1"
   ]
  },
  {
   "cell_type": "markdown",
   "metadata": {},
   "source": [
    "<h2> ЗАДАНИЕ №2 <h2>"
   ]
  },
  {
   "cell_type": "markdown",
   "metadata": {},
   "source": [
    "<h4>Сколько заказов в месяц в среднем не доставляется по разным причинам?<h4>"
   ]
  },
  {
   "cell_type": "code",
   "execution_count": 14,
   "metadata": {},
   "outputs": [
    {
     "data": {
      "text/plain": [
       "51.583333333333336"
      ]
     },
     "execution_count": 14,
     "metadata": {},
     "output_type": "execute_result"
    }
   ],
   "source": [
    "modified_dataframe_1['month_name'] = modified_dataframe_1.order_purchase_timestamp.dt.month_name()\n",
    "# Для выполнения этого задания в датафрейме modified_dataset_1 создали новую колонку, где отображается месяц, когда был создан \n",
    "# заказ.\n",
    "\n",
    "task_2 = modified_dataframe_1.\\\n",
    "    query(\"order_status == 'canceled' and order_delivered_customer_date != order_delivered_customer_date\").\\\n",
    "    groupby('month_name', as_index=False).agg({'order_status': 'count'}).order_status.mean()\n",
    "# К сожалению, кол-во данных в датафрейме не дает нам всей картины, и узнать был ли заказ не доставлен, мы можем только по \n",
    "# одному статусу, а именно canceled (статус unavailable нельзя рассматривать, т.к., мы просто не знаем по каким причинам нам не \n",
    "# доступен статус заказа, это может быть как потеря данных, так и какая-то причина удаления статуса заказа, а так же по тому, \n",
    "# есть ли у заказа время доставки.\n",
    "# Далее, просто сгруппировали данные, посчитали кол-во недоставленных заказов по единственной известной нам причине за каждый \n",
    "# месяц и нашли среднее этих значений (нашли переменную task2).\n",
    "\n",
    "task_2"
   ]
  },
  {
   "cell_type": "markdown",
   "metadata": {},
   "source": [
    "<h2> ЗАДАНИЕ №3 <h2>"
   ]
  },
  {
   "cell_type": "markdown",
   "metadata": {},
   "source": [
    "<h4>По каждому товару определить, в какой день недели товар чаще всего покупается.<h4>"
   ]
  },
  {
   "cell_type": "code",
   "execution_count": 15,
   "metadata": {},
   "outputs": [
    {
     "data": {
      "text/html": [
       "<div>\n",
       "<style scoped>\n",
       "    .dataframe tbody tr th:only-of-type {\n",
       "        vertical-align: middle;\n",
       "    }\n",
       "\n",
       "    .dataframe tbody tr th {\n",
       "        vertical-align: top;\n",
       "    }\n",
       "\n",
       "    .dataframe thead th {\n",
       "        text-align: right;\n",
       "    }\n",
       "</style>\n",
       "<table border=\"1\" class=\"dataframe\">\n",
       "  <thead>\n",
       "    <tr style=\"text-align: right;\">\n",
       "      <th></th>\n",
       "      <th>product_id</th>\n",
       "      <th>weekday_name</th>\n",
       "    </tr>\n",
       "  </thead>\n",
       "  <tbody>\n",
       "    <tr>\n",
       "      <th>0</th>\n",
       "      <td>422879e10f46682990de24d770e7f83d</td>\n",
       "      <td>Wednesday</td>\n",
       "    </tr>\n",
       "    <tr>\n",
       "      <th>1</th>\n",
       "      <td>99a4788cb24856965c36a24e339b6058</td>\n",
       "      <td>Monday</td>\n",
       "    </tr>\n",
       "    <tr>\n",
       "      <th>2</th>\n",
       "      <td>aca2eb7d00ea1a7b8ebd4e68314663af</td>\n",
       "      <td>Thursday</td>\n",
       "    </tr>\n",
       "    <tr>\n",
       "      <th>3</th>\n",
       "      <td>53b36df67ebb7c41585e8d54d6772e08</td>\n",
       "      <td>Tuesday</td>\n",
       "    </tr>\n",
       "    <tr>\n",
       "      <th>4</th>\n",
       "      <td>389d119b48cf3043d311335e499d9c6b</td>\n",
       "      <td>Thursday</td>\n",
       "    </tr>\n",
       "    <tr>\n",
       "      <th>...</th>\n",
       "      <td>...</td>\n",
       "      <td>...</td>\n",
       "    </tr>\n",
       "    <tr>\n",
       "      <th>32609</th>\n",
       "      <td>6435be64ad92f52631170f9a92718a99</td>\n",
       "      <td>Sunday</td>\n",
       "    </tr>\n",
       "    <tr>\n",
       "      <th>32610</th>\n",
       "      <td>64367bed3ed96fd9381676fbe33b6443</td>\n",
       "      <td>Sunday</td>\n",
       "    </tr>\n",
       "    <tr>\n",
       "      <th>32611</th>\n",
       "      <td>643a4049ae3e6df63858575f28cd7b21</td>\n",
       "      <td>Friday</td>\n",
       "    </tr>\n",
       "    <tr>\n",
       "      <th>32612</th>\n",
       "      <td>643a66b1dc5dad3de6cb5a41549e72f1</td>\n",
       "      <td>Sunday</td>\n",
       "    </tr>\n",
       "    <tr>\n",
       "      <th>32613</th>\n",
       "      <td>fffe9eeff12fcbd74a2f2b007dde0c58</td>\n",
       "      <td>Wednesday</td>\n",
       "    </tr>\n",
       "  </tbody>\n",
       "</table>\n",
       "<p>32614 rows × 2 columns</p>\n",
       "</div>"
      ],
      "text/plain": [
       "                             product_id weekday_name\n",
       "0      422879e10f46682990de24d770e7f83d    Wednesday\n",
       "1      99a4788cb24856965c36a24e339b6058       Monday\n",
       "2      aca2eb7d00ea1a7b8ebd4e68314663af     Thursday\n",
       "3      53b36df67ebb7c41585e8d54d6772e08      Tuesday\n",
       "4      389d119b48cf3043d311335e499d9c6b     Thursday\n",
       "...                                 ...          ...\n",
       "32609  6435be64ad92f52631170f9a92718a99       Sunday\n",
       "32610  64367bed3ed96fd9381676fbe33b6443       Sunday\n",
       "32611  643a4049ae3e6df63858575f28cd7b21       Friday\n",
       "32612  643a66b1dc5dad3de6cb5a41549e72f1       Sunday\n",
       "32613  fffe9eeff12fcbd74a2f2b007dde0c58    Wednesday\n",
       "\n",
       "[32614 rows x 2 columns]"
      ]
     },
     "execution_count": 15,
     "metadata": {},
     "output_type": "execute_result"
    }
   ],
   "source": [
    "task_3_1 = olist_order_items_dataset[['order_id', 'product_id']]\n",
    "# Переменная task_3_1 - изменённый датасет olist_order_items_dataset, где остались только необходимые для выполнения задания \n",
    "# столбцы.\n",
    "\n",
    "modified_dataframe_2 = modified_dataframe_1.merge(task_3_1, how='inner', on='order_id')\n",
    "# Переменная modified_dataset_1 - измененный датафрейм modified_dataset_1. В результате изменений была добавлена колонка \n",
    "# product_id для того, чтобы узнать какой товар в какой день недели чаще всего покупают.\n",
    "\n",
    "modified_dataframe_2['weekday_name'] = modified_dataframe_2.order_purchase_timestamp.dt.day_name()\n",
    "# Для выполнения этого задания в датафрейме modified_dataset_1 создали новую колонку, где отображается день недели, \n",
    "# когда был создан заказ.\n",
    "\n",
    "modified_dataframe_2['weekday'] = modified_dataframe_2.weekday_name\n",
    "# Также создали точно такую же колонку для возможности посчитать сколько раз товар купили в тот или иной день недели.\n",
    "\n",
    "task_3 = modified_dataframe_2.query(\"order_status in @purchased\").groupby(['product_id', 'weekday_name'], as_index=False).\\\n",
    "     agg({'weekday': 'count'}).sort_values('weekday', ascending = False).drop_duplicates(subset=['product_id']).\\\n",
    "     reset_index(drop=True).drop(columns='weekday')\n",
    "# Переменная task3 - необходимый нам датафрейм, который показывает когда товар покупают (то есть произошел акт покупки, который\n",
    "# был оговорен в самом начале) чаще всего.\n",
    "# Для выполнения задания сгруппировали датафрейм modified_dataset_2 так, чтобы остались только колонки product_id, weekday_name \n",
    "# и weekday, в последней из которых показывается, сколько раз товар покупали в какой день недели. \n",
    "# Далее осортировали значения по убыванию, чтобы дни, в которые покупают больше были в начале датафрейма, удалили дубликаты из\n",
    "# датафрейма, а также колонку, в которой показывается конкретное число покупок товара в этот день, т.к. в итоге нам нужен только\n",
    "# день, когда купили товар.\n",
    "\n",
    "modified_dataframe_2 = modified_dataframe_2.drop(columns='weekday')\n",
    "# Данная колонка-дубликат нам не нужна, так что удалим её и из modified_dataframe_2))\n",
    "\n",
    "task_3"
   ]
  },
  {
   "cell_type": "markdown",
   "metadata": {},
   "source": [
    "<h2> ЗАДАНИЕ №4 <h2>"
   ]
  },
  {
   "cell_type": "markdown",
   "metadata": {},
   "source": [
    "<h4>Сколько у каждого из пользователей в среднем покупок в неделю (по месяцам)?<h4>"
   ]
  },
  {
   "cell_type": "code",
   "execution_count": 16,
   "metadata": {},
   "outputs": [
    {
     "data": {
      "text/html": [
       "<div>\n",
       "<style scoped>\n",
       "    .dataframe tbody tr th:only-of-type {\n",
       "        vertical-align: middle;\n",
       "    }\n",
       "\n",
       "    .dataframe tbody tr th {\n",
       "        vertical-align: top;\n",
       "    }\n",
       "\n",
       "    .dataframe thead th {\n",
       "        text-align: right;\n",
       "    }\n",
       "</style>\n",
       "<table border=\"1\" class=\"dataframe\">\n",
       "  <thead>\n",
       "    <tr style=\"text-align: right;\">\n",
       "      <th></th>\n",
       "      <th>customer_unique_id</th>\n",
       "      <th>month_name</th>\n",
       "      <th>week_mean</th>\n",
       "    </tr>\n",
       "  </thead>\n",
       "  <tbody>\n",
       "    <tr>\n",
       "      <th>0</th>\n",
       "      <td>0000366f3b9a7992bf8c76cfdf3221e2</td>\n",
       "      <td>May</td>\n",
       "      <td>0.225806</td>\n",
       "    </tr>\n",
       "    <tr>\n",
       "      <th>1</th>\n",
       "      <td>0000b849f77a49e4a4ce2b2a4ca5be3f</td>\n",
       "      <td>May</td>\n",
       "      <td>0.225806</td>\n",
       "    </tr>\n",
       "    <tr>\n",
       "      <th>2</th>\n",
       "      <td>0000f46a3911fa3c0805444483337064</td>\n",
       "      <td>March</td>\n",
       "      <td>0.225806</td>\n",
       "    </tr>\n",
       "    <tr>\n",
       "      <th>3</th>\n",
       "      <td>0000f6ccb0745a6a4b88665a16c9f078</td>\n",
       "      <td>October</td>\n",
       "      <td>0.225806</td>\n",
       "    </tr>\n",
       "    <tr>\n",
       "      <th>4</th>\n",
       "      <td>0004aac84e0df4da2b147fca70cf8255</td>\n",
       "      <td>November</td>\n",
       "      <td>0.233333</td>\n",
       "    </tr>\n",
       "    <tr>\n",
       "      <th>...</th>\n",
       "      <td>...</td>\n",
       "      <td>...</td>\n",
       "      <td>...</td>\n",
       "    </tr>\n",
       "    <tr>\n",
       "      <th>96512</th>\n",
       "      <td>fffcf5a5ff07b0908bd4e2dbc735a684</td>\n",
       "      <td>June</td>\n",
       "      <td>0.233333</td>\n",
       "    </tr>\n",
       "    <tr>\n",
       "      <th>96513</th>\n",
       "      <td>fffea47cd6d3cc0a88bd621562a9d061</td>\n",
       "      <td>December</td>\n",
       "      <td>0.225806</td>\n",
       "    </tr>\n",
       "    <tr>\n",
       "      <th>96514</th>\n",
       "      <td>ffff371b4d645b6ecea244b27531430a</td>\n",
       "      <td>February</td>\n",
       "      <td>0.250000</td>\n",
       "    </tr>\n",
       "    <tr>\n",
       "      <th>96515</th>\n",
       "      <td>ffff5962728ec6157033ef9805bacc48</td>\n",
       "      <td>May</td>\n",
       "      <td>0.225806</td>\n",
       "    </tr>\n",
       "    <tr>\n",
       "      <th>96516</th>\n",
       "      <td>ffffd2657e2aad2907e67c3e9daecbeb</td>\n",
       "      <td>May</td>\n",
       "      <td>0.225806</td>\n",
       "    </tr>\n",
       "  </tbody>\n",
       "</table>\n",
       "<p>96517 rows × 3 columns</p>\n",
       "</div>"
      ],
      "text/plain": [
       "                     customer_unique_id month_name  week_mean\n",
       "0      0000366f3b9a7992bf8c76cfdf3221e2        May   0.225806\n",
       "1      0000b849f77a49e4a4ce2b2a4ca5be3f        May   0.225806\n",
       "2      0000f46a3911fa3c0805444483337064      March   0.225806\n",
       "3      0000f6ccb0745a6a4b88665a16c9f078    October   0.225806\n",
       "4      0004aac84e0df4da2b147fca70cf8255   November   0.233333\n",
       "...                                 ...        ...        ...\n",
       "96512  fffcf5a5ff07b0908bd4e2dbc735a684       June   0.233333\n",
       "96513  fffea47cd6d3cc0a88bd621562a9d061   December   0.225806\n",
       "96514  ffff371b4d645b6ecea244b27531430a   February   0.250000\n",
       "96515  ffff5962728ec6157033ef9805bacc48        May   0.225806\n",
       "96516  ffffd2657e2aad2907e67c3e9daecbeb        May   0.225806\n",
       "\n",
       "[96517 rows x 3 columns]"
      ]
     },
     "execution_count": 16,
     "metadata": {},
     "output_type": "execute_result"
    }
   ],
   "source": [
    "# Количество покупок – количество заказов, которые мы считаем покупкой.\n",
    "\n",
    "modified_dataframe_1['days_in_month'] = modified_dataframe_1.order_purchase_timestamp.dt.daysinmonth\n",
    "# Для выполнения задания в датафрейм modified_dataframe_1 (мы используем именно modified_dataframe_1, т.к. в нем нет лишних \n",
    "# строк с описанием позиций в чеке покупателя и сохраняется определение покупки, которое было дано в самом начале) добавим \n",
    "# колонку с количеством дней в месяце, когда был создан заказ.\n",
    "\n",
    "task_4_1 = modified_dataframe_1.query(\"order_status in @purchased\").\\\n",
    "    groupby(['customer_unique_id', 'month_name', 'days_in_month'], as_index=False).agg({'order_status': 'count'})\n",
    "# Переменная task_4_1 – датафрейм, где находятся уникальные id пользователя, месяц, когда был совершен заказ, кол-во дней в \n",
    "# этом месяце и сколько пользователь совершил заказов за этот месяц.\n",
    "\n",
    "task_4_1['week_mean'] = task_4_1.order_status/(task_4_1.days_in_month/7)\n",
    "# Далее в датафрейм task_4_1 добавим колонку week_mean с кол-вом заказов, совершённых в среднем в неделю за каждый месяц. \n",
    "# Значения считали, как кол-во покупок за месяц, делённое на кол-во недель в месяце (кол-во дней в месяце делённое на 7 (кол-во \n",
    "# дней в неделю)).\n",
    "\n",
    "task_4 = task_4_1.drop(columns=['days_in_month', 'order_status']).sort_values('customer_unique_id').reset_index(drop=True)\n",
    "# Переменная task_4 – необходимый нам датафрейм, для его получения мы просто удалили лишние колонки и отсортировали значения, \n",
    "# чтобы все значения покупок в среднем в неделю по месяцам для одного пользователя шли по порядку.\n",
    "\n",
    "task_4"
   ]
  },
  {
   "cell_type": "markdown",
   "metadata": {},
   "source": [
    "<h2> ЗАДАНИЕ №5 <h2>"
   ]
  },
  {
   "cell_type": "markdown",
   "metadata": {},
   "source": [
    "<h4>Провести когортный анализ пользователей. В период с января по декабрь выявить когорту с самым высоким retention на третий месяц.<h4>"
   ]
  },
  {
   "cell_type": "code",
   "execution_count": 17,
   "metadata": {},
   "outputs": [
    {
     "name": "stdout",
     "output_type": "stream",
     "text": [
      "2017-05\n"
     ]
    }
   ],
   "source": [
    "modified_dataframe_1['year'] = modified_dataframe_1.order_purchase_timestamp.dt.year\n",
    "modified_dataframe_1['year_month'] = pd.to_datetime(modified_dataframe_1.year.astype(str) + '-' \\\n",
    "                                                    + modified_dataframe_1.order_purchase_timestamp.dt.month.astype(str))\n",
    "# Для выполнения данного задания нам понадобится два новых столбца в датафрейме modified_dataframe_1.\n",
    "# Они показывают нам в каком году и в каком месяце в этом году была совершена покупка.\n",
    "\n",
    "task_5_1 = modified_dataframe_1.\\\n",
    "    query(\"order_status in @purchased\")[['customer_unique_id', 'year_month', 'year', 'days_in_month']]\n",
    "# Переменная task_5_1 – изменённый датафрейм modified_dataframe_1, где остались только необходимые колонки, и все пользователи \n",
    "# совершили главное действие – совершили покупку.\n",
    "\n",
    "task_5_2 = task_5_1.groupby('customer_unique_id', as_index=False).agg({'year_month':  'min', 'year':  'min'})\n",
    "# Переменная task_5_2 – датафрейм, где показана дата первой покупки пользователя, а конкретно – год-месяц и год.\n",
    "\n",
    "task_5_3 = task_5_1.merge(task_5_2, how='inner', on='customer_unique_id')\n",
    "# Переменная task_5_3 – датафрейм task_5_1, куда мы добавили даты первых покупок пользователей.\n",
    "\n",
    "task_5_3 = task_5_3.rename(columns={'year_month_x': 'date_of_purchase', 'year_month_y': 'cohorts', \\\n",
    "                                    'year_y': 'first_purchase_year', 'year_x': 'year_of_purchase'})\n",
    "# Для удобства переименовали колонки.\n",
    "\n",
    "task_5_3 = task_5_3.query(\"first_purchase_year == 2017 and year_of_purchase == 2017\")\n",
    "# В задании нам предоставили временной промежуток проведения когортного анализа – с января по декабрь, и под поставленное \n",
    "# требование подходит только 2017-ый год, т.к. данные за 2016-ый и 2018-ый года неполные.\n",
    "\n",
    "task_5_3['months'] = ((pd.to_timedelta(task_5_3.date_of_purchase - task_5_3.cohorts).dt.total_seconds())\\\n",
    "                                          /(24*60*60*task_5_3.days_in_month)).round()\n",
    "# Так же добавим колонку, показывающую сколько месяцев с момента первой покупки до какой-либо покупки пользователя.\n",
    "# Т.к. разницу мы получили в днях, приведём их к месяцам, как изначально и планировали.\n",
    "\n",
    "task_5_4 = task_5_3.groupby(['cohorts', 'months', 'days_in_month'], as_index=False).\\\n",
    "    agg({'customer_unique_id': 'nunique'})\n",
    "# Переменная task_5_4 – датафрейм, где мы уже разделили пользователей по когортам (месяцам в 2017-ом году, когда пользователи \n",
    "# совершили первую покупку).\n",
    "\n",
    "task_5_4.cohorts = task_5_4.cohorts.dt.to_period('M')\n",
    "# Так же мы привели столбец cohorts к более удобному виду.\n",
    "\n",
    "task_5_5 = task_5_4.pivot(index='cohorts', columns='months', values='customer_unique_id')\n",
    "# Переменная task_5_5 – сводная таблица, на ней показано, сколько новых пользователей из определенной когорты возвращалось в \n",
    "# течении исследуемого промежутка времени.\n",
    "\n",
    "task_5_5.index = task_5_5.index.to_series().astype(str)\n",
    "# Теперь для красивого вывода ответа приведем индексы к другому типу данных – строкам.\n",
    "\n",
    "for i in range (task_5_5.shape[0]):\n",
    "        task_5_5.iloc[[i]] = ((task_5_5.iloc[[i]]/task_5_5.iloc[i, 0]))\n",
    "# Для более правильного подсчета Retention rate посчитаем проценты возвращающихся пользователей в каждом месяце.\n",
    "\n",
    "task_5 = (task_5_5.iloc[list(np.where(task_5_5[3.0] == task_5_5[3.0].max())[0])][3.0]).index[0]\n",
    "# Переменная task_5 – необходимая для выполнения задания когорта. Она отобрана по следующим признакам: нам необходим третий \n",
    "# месяц и нужна когорта с самым высоким Retention rate.\n",
    "\n",
    "print(task_5)"
   ]
  },
  {
   "cell_type": "code",
   "execution_count": 18,
   "metadata": {},
   "outputs": [
    {
     "data": {
      "text/plain": [
       "<AxesSubplot:xlabel='months', ylabel='cohorts'>"
      ]
     },
     "execution_count": 18,
     "metadata": {},
     "output_type": "execute_result"
    },
    {
     "data": {
      "image/png": "[encoded data removed]",
      "text/plain": [
       "<Figure size 1440x576 with 2 Axes>"
      ]
     },
     "metadata": {
      "needs_background": "light"
     },
     "output_type": "display_data"
    }
   ],
   "source": [
    "plt.figure(figsize=(20, 8))\n",
    "sns.heatmap(task_5_5, annot=True, fmt='.2%', cmap= 'coolwarm', vmin=0, vmax=0.0071)\n",
    "#Для наглядности подсчета Retention rate за исследуемый период выведем heatmap.\n",
    "#Как видно, крайне малое число пользователей возвращалось после совершения первой покупки."
   ]
  },
  {
   "cell_type": "markdown",
   "metadata": {},
   "source": [
    "<h2> ЗАДАНИЕ №6 <h2>"
   ]
  },
  {
   "cell_type": "markdown",
   "metadata": {},
   "source": [
    "<h4>Построить RFM-сегментацию пользователей, чтобы качественно оценить аудиторию.<h4>"
   ]
  },
  {
   "cell_type": "code",
   "execution_count": 19,
   "metadata": {},
   "outputs": [
    {
     "data": {
      "text/html": [
       "<div>\n",
       "<style scoped>\n",
       "    .dataframe tbody tr th:only-of-type {\n",
       "        vertical-align: middle;\n",
       "    }\n",
       "\n",
       "    .dataframe tbody tr th {\n",
       "        vertical-align: top;\n",
       "    }\n",
       "\n",
       "    .dataframe thead th {\n",
       "        text-align: right;\n",
       "    }\n",
       "</style>\n",
       "<table border=\"1\" class=\"dataframe\">\n",
       "  <thead>\n",
       "    <tr style=\"text-align: right;\">\n",
       "      <th></th>\n",
       "      <th>customer_unique_id</th>\n",
       "      <th>R</th>\n",
       "      <th>F</th>\n",
       "      <th>M</th>\n",
       "    </tr>\n",
       "  </thead>\n",
       "  <tbody>\n",
       "    <tr>\n",
       "      <th>0</th>\n",
       "      <td>0000366f3b9a7992bf8c76cfdf3221e2</td>\n",
       "      <td>1</td>\n",
       "      <td>1</td>\n",
       "      <td>1</td>\n",
       "    </tr>\n",
       "    <tr>\n",
       "      <th>1</th>\n",
       "      <td>0000b849f77a49e4a4ce2b2a4ca5be3f</td>\n",
       "      <td>1</td>\n",
       "      <td>1</td>\n",
       "      <td>1</td>\n",
       "    </tr>\n",
       "    <tr>\n",
       "      <th>2</th>\n",
       "      <td>0000f46a3911fa3c0805444483337064</td>\n",
       "      <td>3</td>\n",
       "      <td>1</td>\n",
       "      <td>1</td>\n",
       "    </tr>\n",
       "    <tr>\n",
       "      <th>3</th>\n",
       "      <td>0000f6ccb0745a6a4b88665a16c9f078</td>\n",
       "      <td>2</td>\n",
       "      <td>1</td>\n",
       "      <td>1</td>\n",
       "    </tr>\n",
       "    <tr>\n",
       "      <th>4</th>\n",
       "      <td>0004aac84e0df4da2b147fca70cf8255</td>\n",
       "      <td>2</td>\n",
       "      <td>1</td>\n",
       "      <td>1</td>\n",
       "    </tr>\n",
       "    <tr>\n",
       "      <th>...</th>\n",
       "      <td>...</td>\n",
       "      <td>...</td>\n",
       "      <td>...</td>\n",
       "      <td>...</td>\n",
       "    </tr>\n",
       "    <tr>\n",
       "      <th>94680</th>\n",
       "      <td>fffcf5a5ff07b0908bd4e2dbc735a684</td>\n",
       "      <td>2</td>\n",
       "      <td>1</td>\n",
       "      <td>1</td>\n",
       "    </tr>\n",
       "    <tr>\n",
       "      <th>94681</th>\n",
       "      <td>fffea47cd6d3cc0a88bd621562a9d061</td>\n",
       "      <td>2</td>\n",
       "      <td>1</td>\n",
       "      <td>1</td>\n",
       "    </tr>\n",
       "    <tr>\n",
       "      <th>94682</th>\n",
       "      <td>ffff371b4d645b6ecea244b27531430a</td>\n",
       "      <td>3</td>\n",
       "      <td>1</td>\n",
       "      <td>1</td>\n",
       "    </tr>\n",
       "    <tr>\n",
       "      <th>94683</th>\n",
       "      <td>ffff5962728ec6157033ef9805bacc48</td>\n",
       "      <td>1</td>\n",
       "      <td>1</td>\n",
       "      <td>1</td>\n",
       "    </tr>\n",
       "    <tr>\n",
       "      <th>94684</th>\n",
       "      <td>ffffd2657e2aad2907e67c3e9daecbeb</td>\n",
       "      <td>3</td>\n",
       "      <td>1</td>\n",
       "      <td>1</td>\n",
       "    </tr>\n",
       "  </tbody>\n",
       "</table>\n",
       "<p>94685 rows × 4 columns</p>\n",
       "</div>"
      ],
      "text/plain": [
       "                     customer_unique_id  R  F  M\n",
       "0      0000366f3b9a7992bf8c76cfdf3221e2  1  1  1\n",
       "1      0000b849f77a49e4a4ce2b2a4ca5be3f  1  1  1\n",
       "2      0000f46a3911fa3c0805444483337064  3  1  1\n",
       "3      0000f6ccb0745a6a4b88665a16c9f078  2  1  1\n",
       "4      0004aac84e0df4da2b147fca70cf8255  2  1  1\n",
       "...                                 ... .. .. ..\n",
       "94680  fffcf5a5ff07b0908bd4e2dbc735a684  2  1  1\n",
       "94681  fffea47cd6d3cc0a88bd621562a9d061  2  1  1\n",
       "94682  ffff371b4d645b6ecea244b27531430a  3  1  1\n",
       "94683  ffff5962728ec6157033ef9805bacc48  1  1  1\n",
       "94684  ffffd2657e2aad2907e67c3e9daecbeb  3  1  1\n",
       "\n",
       "[94685 rows x 4 columns]"
      ]
     },
     "execution_count": 19,
     "metadata": {},
     "output_type": "execute_result"
    }
   ],
   "source": [
    "# Вот и пришло время последнего задания))\n",
    "\n",
    "task_6_1 = modified_dataframe_1.query(\"order_status in @purchased\")[['customer_unique_id', 'order_id']]\n",
    "# Для выполнения задания нам потребуется несколько колонок из датафрейма modified_dataframe_1 (переменная task_6_1), главное \n",
    "# условие – строки этих колонок подходят под условие – пользователь совершил покупку.\n",
    "\n",
    "task_6_2 = olist_order_items_dataset[['order_id', 'price']]\n",
    "# Переменная task_6_2 – датафрейм, состоящий из двух колонок из датасета olist_order_items_dataset.\n",
    "\n",
    "task_6_3 = task_6_1.merge(task_6_2, how='inner', on='order_id')\n",
    "# Переменная task_6_3 – изменённый датафрейм task_6_1, куда мы добавили две необходимую колонку price для подсчета прибыли, \n",
    "# которую принес каждый пользователь (показатель M).\n",
    "\n",
    "task_6_4 = task_6_3.groupby('customer_unique_id', as_index=False).agg({'price': 'sum'})\n",
    "# Переменная task_6_4 – датафрейм, где показана потраченная пользователем сумма в интернет-магазине.\n",
    "\n",
    "task_6_4.price = pd.cut(task_6_4.price, 3, labels=[1, 2, 3])\n",
    "# Разделим потраченные суммы пользователями на сегменты: те, которые потратили до 4480.567 включительно (1), те, что потратили \n",
    "# от 4480.567, не включительно, до 8960.283 включительно (2), и те, что потратили от 8960.283, не включительно, до 13440.0, \n",
    "# включительно (3).\n",
    "\n",
    "task_6_4 = task_6_4.rename(columns={'price': 'M'})\n",
    "# Для удобства переименуем колонку price.\n",
    "\n",
    "task_6_5 = modified_dataframe_1.groupby('customer_unique_id', as_index=False).\\\n",
    "    agg({'order_purchase_timestamp': 'max', 'order_status': 'count'})\n",
    "# Переменная task_6_5 – датафрейм, где показаны последняя дата покупки пользователя и кол-во совершенных им покупок \n",
    "# (показатель F)\n",
    "\n",
    "task_6_5 = task_6_5.rename(columns={'order_purchase_timestamp': 'date_of_last_purchase', 'order_status': 'F_1'})\n",
    "# Опять же, для удобства переименовываем колонки))\n",
    "\n",
    "task_6_6 = task_6_4.merge(task_6_5, how='inner', on='customer_unique_id')\n",
    "# Объединим датафреймы task_6_4 и task_6_5 (создадим переменную task_6_6) с которым и будем работать до конца.\n",
    "\n",
    "task_6_6['R_1'] = pd.to_datetime(datetime.datetime.now().date()) - task_6_6.date_of_last_purchase\n",
    "# Создадим колонку R_1, где будет показано, сколько времени прошло с последней покупки пользователя до сегодняшней даты \n",
    "# (показатель R, назвали R_1, чтобы потом изменить местоположение для удобства).\n",
    "\n",
    "task_6_6.R_1 = pd.cut(task_6_6.R_1, 3, labels=[1, 2, 3])\n",
    "# Так же разделим полученные даты на сегменты: те, кто совершили последнюю покупки не более чем 1622 дней назад (включительно) \n",
    "# (1), те, кто совершили покупку в промежуток от 1622 дней назад (не включительно), до 1879 дней назад (включительно) (2), и \n",
    "# те, что последний раз купили в промежуток от 1879 дней назад (не включительно) до 2137 дней назад (включительно) (3).\n",
    "# P.S. Ваши значения будут отличаться в зависимости от даты проверки, однако глобально они не повлияют на результат.\n",
    "\n",
    "task_6_6.F_1 = pd.cut(task_6_6.F_1, 3, labels=[1, 2, 3])\n",
    "# Теперь разделим значения в колонке F_1 (показатель F) на сегменты: те, кто совершили до 6 покупок, включительно (1), те, кто \n",
    "# совершили от 6 покупок не включительно, до 11 покупок, включительно (2), и те, что совершили от 11 покупок, не включительно, \n",
    "# до 17 покупок, включительно (3).\n",
    "\n",
    "task_6_6.insert(1, \"R\", task_6_6.R_1)\n",
    "task_6_6.insert(2, \"F\", task_6_6.F_1)\n",
    "# Для удобства поставим колонки в следующем порядке: R-F-M, путем добавления колонок R и F в определенное место, путем выбора \n",
    "# индексов.\n",
    "\n",
    "task_6 = task_6_6.drop(columns=['date_of_last_purchase', 'R_1', 'F_1'])\n",
    "# Переменная task_6 – нужный для выполнения задания датафрейм. Для его создания мы просто удалили лишние колонки из датафрейма \n",
    "# task_6_6.\n",
    "\n",
    "task_6"
   ]
  },
  {
   "cell_type": "markdown",
   "metadata": {},
   "source": [
    "<h2> Выводы <h2>"
   ]
  },
  {
   "cell_type": "markdown",
   "metadata": {},
   "source": [
    "## <blockquote> При выполнении первого и двух последних заданий становится понятно, что в большинстве своем пользователи совершают разовые покупки и не заинтересованы возвращаться в интернет-магазин для повторных покупок. <br> Возможно, это связано с тем, что магазин продаёт узкоспециализированные товары и не подходит массовому пользователю, т.к. каждый месяц приходят новые пользователи, но при этом они не возвращаются. Кроме того, они могут приобретать товары, которые необходимы только в разовой покупке (крупная бытовая техника, автомобили). <br> С более большим количеством данных можно было бы сделать более корректные и полные выводы."
   ]
  },
  {
   "cell_type": "code",
   "execution_count": null,
   "metadata": {},
   "outputs": [],
   "source": []
  }
 ],
 "metadata": {
  "kernelspec": {
   "display_name": "Python 3 (ipykernel)",
   "language": "python",
   "name": "python3"
  },
  "language_info": {
   "codemirror_mode": {
    "name": "ipython",
    "version": 3
   },
   "file_extension": ".py",
   "mimetype": "text/x-python",
   "name": "python",
   "nbconvert_exporter": "python",
   "pygments_lexer": "ipython3",
   "version": "3.9.7"
  }
 },
 "nbformat": 4,
 "nbformat_minor": 4
}
